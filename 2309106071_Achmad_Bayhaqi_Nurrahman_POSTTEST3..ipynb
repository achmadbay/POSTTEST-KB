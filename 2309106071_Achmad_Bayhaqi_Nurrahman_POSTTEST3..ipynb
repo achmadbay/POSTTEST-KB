{
  "nbformat": 4,
  "nbformat_minor": 0,
  "metadata": {
    "colab": {
      "provenance": []
    },
    "kernelspec": {
      "name": "python3",
      "display_name": "Python 3"
    },
    "language_info": {
      "name": "python"
    }
  },
  "cells": [
    {
      "cell_type": "code",
      "execution_count": 7,
      "metadata": {
        "id": "SJUtBkv5LeYu"
      },
      "outputs": [],
      "source": [
        "import pandas as pd\n",
        "import numpy as np\n",
        "import matplotlib.pyplot as plt\n",
        "import seaborn as sns\n",
        "from sklearn.preprocessing import StandardScaler, LabelEncoder\n",
        "from sklearn.model_selection import train_test_split"
      ]
    },
    {
      "cell_type": "code",
      "source": [
        "df = pd.read_csv(\"ndtv_data_final.csv\")"
      ],
      "metadata": {
        "id": "xS5ga4lvLxwZ"
      },
      "execution_count": 9,
      "outputs": []
    },
    {
      "cell_type": "code",
      "source": [
        "# Cek Missing Values ---\n",
        "print(\"Jumlah Missing Value per Kolom:\")\n",
        "print(df.isnull().sum())\n",
        "\n",
        "# Tangani missing values\n",
        "# Jika kolom numerik -> isi dengan median\n",
        "# Jika kolom kategorikal -> isi dengan modus\n",
        "for col in df.columns:\n",
        "    if df[col].isnull().sum() > 0:\n",
        "        if df[col].dtype in ['int64', 'float64']:\n",
        "            df[col].fillna(df[col].median(), inplace=True)\n",
        "        else:\n",
        "            df[col].fillna(df[col].mode()[0], inplace=True)\n",
        "\n",
        "print(\"\\nTotal missing value setelah imputasi:\", df.isnull().sum().sum())"
      ],
      "metadata": {
        "colab": {
          "base_uri": "https://localhost:8080/"
        },
        "id": "-qwS3zGFL_YK",
        "outputId": "33f830e3-6bf5-4789-cb85-d7913706efc4"
      },
      "execution_count": 20,
      "outputs": [
        {
          "output_type": "stream",
          "name": "stdout",
          "text": [
            "Jumlah Missing Value per Kolom:\n",
            "Unnamed: 0                0\n",
            "Name                      0\n",
            "Brand                     0\n",
            "Model                     0\n",
            "Battery capacity (mAh)    0\n",
            "Screen size (inches)      0\n",
            "Touchscreen               0\n",
            "Resolution x              0\n",
            "Resolution y              0\n",
            "Processor                 0\n",
            "RAM (MB)                  0\n",
            "Internal storage (GB)     0\n",
            "Rear camera               0\n",
            "Front camera              0\n",
            "Operating system          0\n",
            "Wi-Fi                     0\n",
            "Bluetooth                 0\n",
            "GPS                       0\n",
            "Number of SIMs            0\n",
            "3G                        0\n",
            "4G/ LTE                   0\n",
            "Price                     0\n",
            "PPI                       0\n",
            "dtype: int64\n",
            "\n",
            "Total missing value setelah imputasi: 0\n"
          ]
        }
      ]
    },
    {
      "cell_type": "markdown",
      "source": [
        "Data kosong bisa muncul karena kesalahan pencatatan atau data yang memang tidak tersedia. Kalau ada nilai kosong di kolom angka, kita isi dengan median (nilai tengah) supaya tidak terlalu terpengaruh oleh nilai yang terlalu besar atau kecil. Kalau yang kosong ada di kolom teks seperti nama brand atau sistem operasi, kita isi dengan nilai yang paling sering muncul (modus). Dengan\n",
        "begitu, tidak ada lagi data kosong yang bisa bikin error waktu model dijalankan."
      ],
      "metadata": {
        "id": "EeFxiKeYl7bT"
      }
    },
    {
      "cell_type": "code",
      "source": [
        "# Cek dan hapus duplikat ---\n",
        "before = df.shape[0]\n",
        "df.drop_duplicates(inplace=True)\n",
        "after = df.shape[0]\n",
        "print(f\"\\nJumlah data duplikat yang dihapus: {before - after}\")"
      ],
      "metadata": {
        "colab": {
          "base_uri": "https://localhost:8080/"
        },
        "id": "QaNESoSRMDw8",
        "outputId": "dfe6e98e-b5cf-417f-80a5-4156aef422d6"
      },
      "execution_count": 21,
      "outputs": [
        {
          "output_type": "stream",
          "name": "stdout",
          "text": [
            "\n",
            "Jumlah data duplikat yang dihapus: 0\n"
          ]
        }
      ]
    },
    {
      "cell_type": "markdown",
      "source": [
        "Kadang ada data yang sama persis muncul lebih dari satu kali. Data seperti ini tidak memberi informasi tambahan, malah bisa bikin model jadi bias karena “belajar” dari data yang berulang. Kita hapus data ganda ini supaya setiap baris benar-benar unik.\n"
      ],
      "metadata": {
        "id": "eY_2Irtjmm4l"
      }
    },
    {
      "cell_type": "code",
      "source": [
        "# Tangani Outlier ---\n",
        "# Metode IQR\n",
        "numeric_cols = df.select_dtypes(include=\"number\").columns\n",
        "\n",
        "for col in numeric_cols:\n",
        "    Q1 = df[col].quantile(0.25)\n",
        "    Q3 = df[col].quantile(0.75)\n",
        "    IQR = Q3 - Q1\n",
        "    lower = Q1 - 1.5 * IQR\n",
        "    upper = Q3 + 1.5 * IQR\n",
        "    df[col] = np.clip(df[col], lower, upper)\n",
        "\n",
        "print(\"\\nOutlier sudah ditangani dengan metode IQR (data di-clip pada batas bawah & atas).\")"
      ],
      "metadata": {
        "colab": {
          "base_uri": "https://localhost:8080/"
        },
        "id": "w-IEY5C4MF2E",
        "outputId": "d780a566-b29b-4e04-a99c-d6a0cbeed8c9"
      },
      "execution_count": 22,
      "outputs": [
        {
          "output_type": "stream",
          "name": "stdout",
          "text": [
            "\n",
            "Outlier sudah ditangani dengan metode IQR (data di-clip pada batas bawah & atas).\n"
          ]
        }
      ]
    },
    {
      "cell_type": "markdown",
      "source": [
        "Outlier itu nilai yang jauh banget dari nilai lainnya, misalnya harga yang terlalu tinggi atau RAM yang tidak masuk akal.\n",
        "Kita pakai metode IQR (Interquartile Range) untuk membatasi nilai-nilai ini.\n",
        "Kalau ada nilai yang terlalu tinggi atau terlalu rendah dari batas normal, kita potong ke batas yang wajar supaya tidak mengganggu model."
      ],
      "metadata": {
        "id": "h7v4Q-N2mswT"
      }
    },
    {
      "cell_type": "code",
      "source": [
        "from sklearn.preprocessing import StandardScaler\n",
        "\n",
        "scaler = StandardScaler()\n",
        "df_scaled = df.copy()\n",
        "\n",
        "df_scaled[numeric_cols] = scaler.fit_transform(df_scaled[numeric_cols])\n",
        "print(\"\\nData numerik setelah standarisasi:\")\n",
        "print(df_scaled[numeric_cols].head())\n"
      ],
      "metadata": {
        "colab": {
          "base_uri": "https://localhost:8080/"
        },
        "id": "cRpE0NpYNnr_",
        "outputId": "6d42bbf9-4bb2-4f71-d671-82a35af125a0"
      },
      "execution_count": 23,
      "outputs": [
        {
          "output_type": "stream",
          "name": "stdout",
          "text": [
            "\n",
            "Data numerik setelah standarisasi:\n",
            "     Unnamed: 0      Name     Brand     Model  Battery capacity (mAh)  \\\n",
            "279   -2.664890  0.808844  1.365824  0.982504                1.414138   \n",
            "335   -2.446787  0.367656 -0.044181 -0.003566                1.988481   \n",
            "371   -2.306578 -1.527817 -1.051328 -0.726684                0.101354   \n",
            "374   -2.294894  1.299053  1.466538 -0.036435                1.988481   \n",
            "402   -2.185843  1.364414  1.567253  1.722056               -0.607550   \n",
            "\n",
            "     Screen size (inches)  Touchscreen  Resolution x  Resolution y  Processor  \\\n",
            "279                   0.0          0.0      0.744334       0.73291        0.0   \n",
            "335                   0.0          0.0      0.744334       0.73291        0.0   \n",
            "371                   0.0          0.0      0.744334       0.73291        0.0   \n",
            "374                   0.0          0.0      0.744334       0.73291        0.0   \n",
            "402                   0.0          0.0      0.744334       0.73291        0.0   \n",
            "\n",
            "     ...  Front camera  Operating system  Wi-Fi  Bluetooth  GPS  \\\n",
            "279  ...      0.648376               0.0    0.0        0.0  0.0   \n",
            "335  ...      0.648376               0.0    0.0        0.0  0.0   \n",
            "371  ...      2.209189               0.0    0.0        0.0  0.0   \n",
            "374  ...      0.648376               0.0    0.0        0.0  0.0   \n",
            "402  ...      0.648376               0.0    0.0        0.0  0.0   \n",
            "\n",
            "     Number of SIMs   3G   4G/ LTE     Price       PPI  \n",
            "279             0.0  0.0  0.664964 -0.433514  0.699783  \n",
            "335             0.0  0.0  0.664964  0.122205  0.699783  \n",
            "371             0.0  0.0  0.664964  2.617940  0.699783  \n",
            "374             0.0  0.0  0.664964 -0.155654  0.699783  \n",
            "402             0.0  0.0  0.664964  2.067223  0.699783  \n",
            "\n",
            "[5 rows x 23 columns]\n"
          ]
        }
      ]
    },
    {
      "cell_type": "markdown",
      "source": [
        "Setelah data bersih, langkah selanjutnya adalah menyesuaikan skala antar kolom angka.\n",
        "Misalnya, harga ponsel bisa jutaan, tapi ukuran layar cuma beberapa inci.\n",
        "Kalau langsung dimasukkan ke model, nilai yang besar (seperti harga) bisa mendominasi dan membuat model jadi tidak seimbang.\n",
        "\n",
        "Untuk itu, kita gunakan StandardScaler, yang akan membuat setiap kolom angka memiliki rata-rata 0 dan standar deviasi 1.\n",
        "Dengan cara ini, semua fitur punya pengaruh yang seimbang saat model belajar."
      ],
      "metadata": {
        "id": "NWA0g9CfmyT4"
      }
    },
    {
      "cell_type": "code",
      "source": [
        "from sklearn.preprocessing import LabelEncoder\n",
        "\n",
        "cat_cols = df_scaled.select_dtypes(include=[\"object\"]).columns\n",
        "le = LabelEncoder()\n",
        "\n",
        "for col in cat_cols:\n",
        "    df_scaled[col] = le.fit_transform(df_scaled[col])\n",
        "\n",
        "print(\"\\nContoh hasil encoding:\")\n",
        "print(df_scaled[cat_cols].head())\n"
      ],
      "metadata": {
        "colab": {
          "base_uri": "https://localhost:8080/"
        },
        "id": "egKHD0E4NqH8",
        "outputId": "3a5226cd-b261-4bfb-8757-d91e98195e70"
      },
      "execution_count": 24,
      "outputs": [
        {
          "output_type": "stream",
          "name": "stdout",
          "text": [
            "\n",
            "Contoh hasil encoding:\n",
            "Empty DataFrame\n",
            "Columns: []\n",
            "Index: [279, 335, 371, 374, 402]\n"
          ]
        }
      ]
    },
    {
      "cell_type": "markdown",
      "source": [
        "Kolom seperti “Brand”, “Model”, atau “Operating System” berisi teks, sedangkan model machine learning hanya bisa memproses angka.\n",
        "Supaya bisa digunakan, kita ubah semua kolom teks menjadi angka menggunakan LabelEncoder.\n",
        "\n",
        "Contohnya, kalau di kolom “Brand” ada “Samsung”, “Apple”, dan “Xiaomi”, maka masing-masing akan diubah menjadi 0, 1, dan 2.\n",
        "Tujuannya supaya model bisa membedakan kategori satu dengan yang lain, meskipun aslinya berupa teks."
      ],
      "metadata": {
        "id": "1aBmSGKVm2k1"
      }
    },
    {
      "cell_type": "code",
      "source": [
        "# Contoh fitur baru: PPI (Pixels Per Inch)\n",
        "df_scaled[\"PPI\"] = np.sqrt(df_scaled[\"Resolution x\"]**2 + df_scaled[\"Resolution y\"]**2) / df_scaled[\"Screen size (inches)\"]\n",
        "\n",
        "print(\"\\nFitur baru 'PPI' berhasil ditambahkan:\")\n",
        "print(df_scaled[[\"Resolution x\", \"Resolution y\", \"Screen size (inches)\", \"PPI\"]].head())\n"
      ],
      "metadata": {
        "colab": {
          "base_uri": "https://localhost:8080/"
        },
        "id": "_xbRS378N-Hy",
        "outputId": "d951088f-c43b-43a9-eb2a-2f81f493715e"
      },
      "execution_count": 25,
      "outputs": [
        {
          "output_type": "stream",
          "name": "stdout",
          "text": [
            "\n",
            "Fitur baru 'PPI' berhasil ditambahkan:\n",
            "     Resolution x  Resolution y  Screen size (inches)  PPI\n",
            "279      0.744334       0.73291                   0.0  inf\n",
            "335      0.744334       0.73291                   0.0  inf\n",
            "371      0.744334       0.73291                   0.0  inf\n",
            "374      0.744334       0.73291                   0.0  inf\n",
            "402      0.744334       0.73291                   0.0  inf\n"
          ]
        }
      ]
    },
    {
      "cell_type": "markdown",
      "source": [
        "Tahap ini bertujuan untuk menambah fitur baru agar model bisa mengenali pola dengan lebih baik.\n",
        "Kita buat satu fitur baru bernama PPI (Pixel Per Inch), yaitu ukuran kerapatan layar ponsel."
      ],
      "metadata": {
        "id": "CIDJ-SkQm3wC"
      }
    },
    {
      "cell_type": "code",
      "source": [
        "from sklearn.model_selection import train_test_split\n",
        "\n",
        "X = df_scaled.drop(\"Price\", axis=1)\n",
        "y = df_scaled[\"Price\"]\n",
        "\n",
        "X_train, X_test, y_train, y_test = train_test_split(\n",
        "    X, y, test_size=0.2, random_state=42\n",
        ")\n",
        "\n",
        "print(\"\\nData berhasil dibagi menjadi:\")\n",
        "print(f\"Training set: {X_train.shape[0]} record\")\n",
        "print(f\"Testing set: {X_test.shape[0]} record\")\n"
      ],
      "metadata": {
        "colab": {
          "base_uri": "https://localhost:8080/"
        },
        "id": "NzFrdKySOAXY",
        "outputId": "f5064c3a-1ae4-4431-c916-ba6fbce28f27"
      },
      "execution_count": 26,
      "outputs": [
        {
          "output_type": "stream",
          "name": "stdout",
          "text": [
            "\n",
            "Data berhasil dibagi menjadi:\n",
            "Training set: 169 record\n",
            "Testing set: 43 record\n"
          ]
        }
      ]
    },
    {
      "cell_type": "markdown",
      "source": [
        "Setelah semua data sudah siap, langkah terakhir adalah membagi data menjadi dua bagian:\n",
        "\n",
        "Data training (80%): digunakan untuk melatih model.\n",
        "\n",
        "Data testing (20%): digunakan untuk menguji seberapa bagus model yang sudah dibuat.\n",
        "\n",
        "Pembagian ini dilakukan dengan fungsi train_test_split dari library sklearn.\n",
        "Tujuannya agar kita bisa mengetahui apakah model hanya “menghafal” data latih atau benar-benar bisa menebak data baru dengan baik."
      ],
      "metadata": {
        "id": "fi3Pl79knE8f"
      }
    }
  ]
}